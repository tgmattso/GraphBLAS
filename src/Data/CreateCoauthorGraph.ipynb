{
 "cells": [
  {
   "cell_type": "code",
   "execution_count": 4,
   "metadata": {},
   "outputs": [],
   "source": [
    "import csv\n",
    "import re\n",
    "import os, sys"
   ]
  },
  {
   "cell_type": "code",
   "execution_count": 5,
   "metadata": {},
   "outputs": [],
   "source": [
    "# Author Fields: 0-based index, Normalized name, List of raw variants of the name\n",
    "author_pathname = \"author_normalization_table_reversed_indexed.tsv\"\n",
    "\n",
    "# Document Fields: 0-based index, Title, auth1/aff1|auth2/aff2|... year txt_pathname url\n",
    "document_pathname = \"all_hpec_records_cleaned_normalized_authors_indexed.tsv\"\n",
    "\n",
    "# Coauthor Graph fields: author1-index, author2-index, document-index1[|document-index2]*\n",
    "coauthor_graph_pathname = \"hpec_coauthors.tsv\"\n",
    "\n",
    "# Coauthor Graph in Matrix market formate where edge value is number of document-indices\"\n",
    "coauthor_graph_mtx_pathname = \"hpec_coauthors.mtx\""
   ]
  },
  {
   "cell_type": "code",
   "execution_count": 7,
   "metadata": {
    "scrolled": true
   },
   "outputs": [
    {
     "name": "stdout",
     "output_type": "stream",
     "text": [
      "Number of author entries:  1747\n",
      "Number of coauthor edges:  10072\n"
     ]
    }
   ],
   "source": [
    "# Create the lookup table\n",
    "author_lookup = {}  # key = full name, value = author_index\n",
    "\n",
    "# Read in the author index table\n",
    "with open(author_pathname, 'r') as infile:\n",
    "    reader = csv.reader(infile, delimiter='\\t')\n",
    "    line_number = 0\n",
    "    for row in reader:\n",
    "        line_number = line_number + 1\n",
    "        if (len(row) != 3):\n",
    "            print(\"ERROR: wrong number of fields in line \",line_number,\", record=\",row)\n",
    "            continue\n",
    "            \n",
    "        (author_index, full_name, name_variants) = row\n",
    "\n",
    "        if (full_name in author_lookup):\n",
    "            print(\"ERROR: duplicate key (full name) in line \",line_number,\", name =\",full_name)\n",
    "        else:\n",
    "            author_lookup[full_name] = int(author_index)\n",
    "\n",
    "num_nodes = len(author_lookup.keys())\n",
    "print(\"Number of author entries: \", len(author_lookup.keys()))\n",
    "\n",
    "edge_list = {} # key = (auth1_index, auth2_index), value = (list of document indices)\n",
    "\n",
    "with open(document_pathname, 'r') as infile:\n",
    "    line_number = 0\n",
    "    reader = csv.reader(infile, delimiter='\\t')\n",
    "    #outfile = open(output_pathname, 'w')\n",
    "    #writer = csv.writer(outfile, delimiter='\\t')\n",
    "    for row in reader:\n",
    "        line_number = line_number + 1\n",
    "        if (len(row) != 6):\n",
    "            print(\"ERROR: bad record length in line \",line_number)\n",
    "        else:\n",
    "            (document_index, title, authors, pub_year, txt_filepath, url) = row\n",
    "            doc_index = int(document_index)\n",
    "            \n",
    "            author_index_list = []\n",
    "            alist = authors.split(\"|\")\n",
    "            for author in alist:\n",
    "                (full_name,affiliation) = author.split(\"/\")\n",
    "                if (full_name not in author_lookup):\n",
    "                    print(\"ERROR: '\",full_name,\"' not found in lookup table, line = \",line_number)\n",
    "                else:\n",
    "                    author_index_list.append(int(author_lookup[full_name]))\n",
    "            #create bidirectional pairs of all possible author indices\n",
    "            for idx1 in range(len(author_index_list)):\n",
    "                for idx2 in range(len(author_index_list)):\n",
    "                    if (idx1 != idx2):\n",
    "                        auth_idx1 = author_index_list[idx1]\n",
    "                        auth_idx2 = author_index_list[idx2]\n",
    "                        if (auth_idx1 == auth_idx2):\n",
    "                            print(\"WARNING: skipping duplicate author entries, line = \", line_number,\n",
    "                                  \", author index = \", auth_idx1)\n",
    "                        else:\n",
    "                            if ((auth_idx1,auth_idx2) in edge_list):\n",
    "                                edge_list[(auth_idx1, auth_idx2)].append(str(doc_index))\n",
    "                            else:\n",
    "                                edge_list[(auth_idx1, auth_idx2)] = [str(doc_index)]\n",
    "\n",
    "num_edges = len(edge_list.keys())                                \n",
    "print(\"Number of coauthor edges: \", len(edge_list.keys()))\n",
    "\n",
    "outfile = open(coauthor_graph_pathname, 'w')\n",
    "mtx_outfile = open(coauthor_graph_mtx_pathname, 'w')\n",
    "mtx_outfile.write(\"%%MatrixMarket matrix coordinate integer\\n\")\n",
    "        \n",
    "writer     = csv.writer(outfile,     delimiter='\\t')\n",
    "mtx_writer = csv.writer(mtx_outfile, delimiter=' ')\n",
    "mtx_writer.writerow((num_nodes, num_nodes, num_edges))\n",
    "\n",
    "for (key,value) in sorted(edge_list.items()):\n",
    "    #print(key, \":\", edge_list[key])\n",
    "    writer.writerow((key[0], key[1], \"|\".join(edge_list[key])))\n",
    "    mtx_writer.writerow((key[0], key[1], len(edge_list[key])))\n",
    "\n",
    "outfile.close()\n",
    "mtx_outfile.close()\n"
   ]
  },
  {
   "cell_type": "code",
   "execution_count": null,
   "metadata": {
    "scrolled": false
   },
   "outputs": [],
   "source": []
  }
 ],
 "metadata": {
  "kernelspec": {
   "display_name": "Python 3",
   "language": "python",
   "name": "python3"
  },
  "language_info": {
   "codemirror_mode": {
    "name": "ipython",
    "version": 3
   },
   "file_extension": ".py",
   "mimetype": "text/x-python",
   "name": "python",
   "nbconvert_exporter": "python",
   "pygments_lexer": "ipython3",
   "version": "3.5.2"
  }
 },
 "nbformat": 4,
 "nbformat_minor": 2
}
